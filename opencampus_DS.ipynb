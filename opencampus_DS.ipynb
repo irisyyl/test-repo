{
 "cells": [
  {
   "cell_type": "markdown",
   "metadata": {},
   "source": [
    "Course: Introduction of Date Science and Machine Learning \n",
    "Organization: opencampus.sh \n",
    "Date: 2025-04-17"
   ]
  },
  {
   "cell_type": "code",
   "execution_count": null,
   "metadata": {},
   "outputs": [],
   "source": [
    "# Importing the statistics module\n",
    "import statistics\n",
    "\n",
    "# 7 numbers\n",
    "lst1 = [1, 2, 3, 4, 5, 6, 9.87654321]\n",
    "\n",
    "# calculate mean \n",
    "x = statistics.mean(lst1)\n",
    "\n",
    "# print mean \n",
    "print(x)"
   ]
  }
 ],
 "metadata": {
  "language_info": {
   "name": "python"
  }
 },
 "nbformat": 4,
 "nbformat_minor": 2
}
