{
 "cells": [
  {
   "cell_type": "markdown",
   "metadata": {},
   "source": [
    "Course: Introduction of Date Science and Machine Learning \n",
    "\n",
    "Organization: opencampus.sh \n",
    "\n",
    "Date: 2025-04-17"
   ]
  },
  {
   "cell_type": "code",
   "execution_count": 2,
   "metadata": {},
   "outputs": [
    {
     "name": "stdout",
     "output_type": "stream",
     "text": [
      "4.410934744285714\n"
     ]
    }
   ],
   "source": [
    "# Importing the statistics module\n",
    "import statistics\n",
    "\n",
    "# 7 numbers\n",
    "lst1 = [1, 2, 3, 4, 5, 6, 9.87654321]\n",
    "\n",
    "# calculate mean \n",
    "x = statistics.mean(lst1)\n",
    "\n",
    "# print mean \n",
    "print(x)\n"
   ]
  },
  {
   "cell_type": "code",
   "execution_count": null,
   "metadata": {},
   "outputs": [],
   "source": [
    "# string practice \n",
    "work = \"  system output\"\n",
    "# print string\n",
    "print(work)\n",
    "# print string length\n",
    "print(len(work))\n",
    "# print string in upper case\n",
    "print(work.upper())\n",
    "# print string in lower case\n",
    "print(work.lower())\n",
    "# print string in title case\n",
    "print(work.title())\n",
    "\n",
    "# strip whitespace\n",
    "print(work.strip())\n",
    "\n",
    "# replace string\n",
    "print(work.replace(\"system\", \"systematic\"))\n",
    "\n",
    "# string slicing\n",
    "print(work[0:6])\n",
    "print(work[:6])\n",
    "print(work[:])\n",
    "\n",
    "# string slicing\n",
    "print(work[0:6:2])\n",
    "# The slicing [start:end:step] extracts characters from start to end-1, skipping step-1 characters in between.\n",
    "# For example, work[0:6:2] starts at index 0 and goes up to index 5 (not including 6), with a step of 2.\n",
    "# This means it will take every second character from the substring \"  sys\", which is \"s\".\n",
    "# In this case, the step 2 skips every other character, resulting in \"ss\".\n",
    "# The result is \"s\", as it takes the character at index 0 (space), then skips to index 2 (s), and then skips to index 4 (y).\n",
    "# The result is \"sy\", as it takes the character at index 0 (space), then skips to index 2 (s), and then skips to index 4 (y).\n",
    "# The slicing [start:end:step] extracts characters from start to end-1, skipping step-1 characters in between.\n",
    "\n",
    "\n",
    "# find substring\n",
    "print(work.find(\"system\"))\n",
    "print(work.find(\"System\")) # if not found, returns -1\n",
    "print(\"system\" in work)\n",
    "print(\"dog\" not in work)"
   ]
  },
  {
   "cell_type": "code",
   "execution_count": null,
   "metadata": {},
   "outputs": [],
   "source": [
    "# number practice \n",
    "import math\n",
    "\n",
    "x = 10\n",
    "x += 5 \n",
    "print(x)\n"
   ]
  },
  {
   "cell_type": "code",
   "execution_count": null,
   "metadata": {},
   "outputs": [],
   "source": [
    "# funcion practice\n",
    "# 1. writing your own function\n",
    "def greet():\n",
    "    print(\"Hello!\")\n",
    "\n",
    "# calling the function\n",
    "greet()\n",
    "\n",
    "\n",
    "\n",
    "# 2. function with parameters\n",
    "def greet_param(name):\n",
    "    print(f\"Hello, {name}!\")\n",
    "\n",
    "# calling the function with parameters\n",
    "greet_param(\"John\")\n",
    "\n",
    "\n",
    "\n",
    "# 3. function with 'return' statement\n",
    "def greet_param_return(name):\n",
    "    return f\"Hello, {name}!\"\n",
    "# calling the function with parameters\n",
    "greeting = greet_param_return(\"John\")\n",
    "print(greeting)\n",
    "\n",
    "\n",
    "print(greet_param(\"John\"))\n",
    "# returns 'None' due to the absence of a value \n",
    "\n"
   ]
  },
  {
   "cell_type": "markdown",
   "metadata": {},
   "source": [
    "# Week 2 "
   ]
  },
  {
   "cell_type": "code",
   "execution_count": 1,
   "metadata": {},
   "outputs": [],
   "source": [
    "url_umsatzdaten_gekuerzt = \"https://github.com/opencampus-sh/einfuehrung-in-data-science-und-ml/blob/main/umsatzdaten_gekuerzt.csv\""
   ]
  }
 ],
 "metadata": {
  "kernelspec": {
   "display_name": "Python 3 (ipykernel)",
   "language": "python",
   "name": "python3"
  }
 },
 "nbformat": 4,
 "nbformat_minor": 2
}
